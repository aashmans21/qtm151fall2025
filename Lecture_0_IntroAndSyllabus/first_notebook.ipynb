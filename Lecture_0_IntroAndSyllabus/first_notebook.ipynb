{
 "cells": [
  {
   "cell_type": "markdown",
   "id": "5d44a16c",
   "metadata": {
    "vscode": {
     "languageId": "plaintext"
    }
   },
   "source": [
    "# <span> This is my first Jupyter notebook </span>"
   ]
  },
  {
   "cell_type": "code",
   "execution_count": 1,
   "id": "8a067a8f",
   "metadata": {},
   "outputs": [
    {
     "name": "stdout",
     "output_type": "stream",
     "text": [
      "My name is Aashman Srivastava\n"
     ]
    }
   ],
   "source": [
    "print(\"My name is Aashman Srivastava\")"
   ]
  }
 ],
 "metadata": {
  "kernelspec": {
   "display_name": "base",
   "language": "python",
   "name": "python3"
  },
  "language_info": {
   "codemirror_mode": {
    "name": "ipython",
    "version": 3
   },
   "file_extension": ".py",
   "mimetype": "text/x-python",
   "name": "python",
   "nbconvert_exporter": "python",
   "pygments_lexer": "ipython3",
   "version": "3.13.5"
  }
 },
 "nbformat": 4,
 "nbformat_minor": 5
}
